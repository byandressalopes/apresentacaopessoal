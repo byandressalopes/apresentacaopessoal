{
  "nbformat": 4,
  "nbformat_minor": 0,
  "metadata": {
    "colab": {
      "provenance": [],
      "authorship_tag": "ABX9TyMyFWKIwA3E7/W+ycDxNS60"
    },
    "kernelspec": {
      "name": "python3",
      "display_name": "Python 3"
    },
    "language_info": {
      "name": "python"
    }
  },
  "cells": [
    {
      "cell_type": "markdown",
      "source": [
        "\n",
        "# **Apresentação pessoal**\n",
        "---\n",
        "\n",
        "## Eu sou a Andressa Lopes ☕\n",
        "Discente do curso BACHARELADO EM SISTEMAS DE INFORMAÇÃO na Universidade Federal do oeste do Pará - UFOPA. Além de estudar, também trabalho em um restaurante da cidade como operadora de delivery. Sou uma pessoa comunicativa, sempre aberta a novas experiências e conhecimentos. Mesmo com a correria do dia a dia, mantenho meu foco em alcançar meus objetivos. Cada desafio que enfrento, seja na universidade ou no trabalho, me ensina algo valioso e me faz crescer pessoalmente e profissionalmente.\n",
        "\n",
        "# **Experiência profissional e acadêmica:**\n",
        "---\n",
        "A academia me proporcionou experiências incríveis. Ministrar minicursos em eventos internos da universidade, conduzir palestras, participar de organizações de eventos internos e externos.\n",
        "Eventos que já participei:\n",
        "* Maratona SBC Regional de programação - Participante\n",
        "* Salão de Orientação Profissional da UFOPA - Palestrante\n",
        "* Semana do meio ambiente na UFOPA - Ministradora de Minicurso\n",
        "* Jornada acadêmica da UFOPA 2022 - Apresentação de trabalho\n",
        "* Jornada acadêmica do IFPA 2023 - Apresentação de trabalho\n",
        "\n",
        "\n",
        "# **Projetos e trabalhos:**\n",
        "---\n",
        "Atualmente sou bolsista PIBIC na UFOPA - Pojeto BIOECONOMIA NA AMAZÔNIA, sob a orientação do Professor Clayton Santos. Além da pesquisa, estou desenvolvendo uma *Plataforma de Rastreabilidade de Cadeia baseada em Blockchain* para registrar e acompanhar todos os processos de produção e distribuição de produtos. Desde a colheita até a entrega ao consumidor final.\n",
        "\n",
        "# **Conhecimentos adquiridos:**\n",
        "---\n",
        "Durante minha jornada acadêmica e profissional, adquiri algumas habilidades e conhecimentos, incluindo:\n",
        "* Programação: Python, Java, PHP\n",
        "* Desenvolvimento Web: HTML, CSS\n",
        "* Banco de Dados: MySQL, SQLite\n",
        "* Versionamento de Código: Git\n",
        "* Métodos Ágeis: Scrum, Kanban, Lean e Xp.\n",
        "* Ferramentas de automação: Vagrant, Ansible.\n",
        "\n",
        "# **O que estou estudando atualmente:**\n",
        "---\n",
        "* DevOps enginner\n",
        "* Linguagens de Programação: Ruby, Nodejs\n",
        "* Solidy para programação em Blockchain na Plataforma Ethereum.\n",
        "\n",
        "# **Contatos:**\n",
        "---\n",
        "* LinkedIn:: https://www.linkedin.com/in/andressa-lopes-2268b71a2\n",
        "* Instagram: https://www.instagram.com/byandressalopes\n",
        "* E-mail: andressalopesbr@gmail.com\n",
        "\n",
        "\n",
        "\n",
        "\n",
        "\n",
        "\n",
        "\n"
      ],
      "metadata": {
        "id": "ahrkecGGFHcP"
      }
    }
  ]
}